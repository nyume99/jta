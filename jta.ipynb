{
  "nbformat": 4,
  "nbformat_minor": 0,
  "metadata": {
    "colab": {
      "name": "jta.ipynb",
      "provenance": [],
      "collapsed_sections": [],
      "mount_file_id": "1UJ1gC_05AZqITBO4qGogFB3r7k9rXW5K",
      "authorship_tag": "ABX9TyMqC4nIc1aEToowa7MpGrXI",
      "include_colab_link": true
    },
    "kernelspec": {
      "name": "python3",
      "display_name": "Python 3"
    }
  },
  "cells": [
    {
      "cell_type": "markdown",
      "metadata": {
        "id": "view-in-github",
        "colab_type": "text"
      },
      "source": [
        "<a href=\"https://colab.research.google.com/github/nyume99/jta/blob/master/jta.ipynb\" target=\"_parent\"><img src=\"https://colab.research.google.com/assets/colab-badge.svg\" alt=\"Open In Colab\"/></a>"
      ]
    },
    {
      "cell_type": "code",
      "metadata": {
        "id": "tqCdQjuzbeN8",
        "colab_type": "code",
        "colab": {}
      },
      "source": [
        "!pip install scrapy"
      ],
      "execution_count": 0,
      "outputs": []
    },
    {
      "cell_type": "markdown",
      "metadata": {
        "id": "I29s1H4O1aSb",
        "colab_type": "text"
      },
      "source": [
        "# 新しいセクション"
      ]
    },
    {
      "cell_type": "code",
      "metadata": {
        "id": "bIowSbBaSkfy",
        "colab_type": "code",
        "outputId": "11946ee9-ed6f-46ca-940c-6323a62656ff",
        "colab": {
          "base_uri": "https://localhost:8080/",
          "height": 119
        }
      },
      "source": [
        "!scrapy startproject jta"
      ],
      "execution_count": 0,
      "outputs": [
        {
          "output_type": "stream",
          "text": [
            "New Scrapy project 'jta', using template directory '/usr/local/lib/python3.6/dist-packages/scrapy/templates/project', created in:\n",
            "    /content/jta\n",
            "\n",
            "You can start your first spider with:\n",
            "    cd jta\n",
            "    scrapy genspider example example.com\n"
          ],
          "name": "stdout"
        }
      ]
    },
    {
      "cell_type": "code",
      "metadata": {
        "id": "Zg2P4v62TEL8",
        "colab_type": "code",
        "outputId": "b0df4d1e-8fde-4e84-a231-070c4611d521",
        "colab": {
          "base_uri": "https://localhost:8080/",
          "height": 34
        }
      },
      "source": [
        "%cd jta"
      ],
      "execution_count": 0,
      "outputs": [
        {
          "output_type": "stream",
          "text": [
            "/content/jta\n"
          ],
          "name": "stdout"
        }
      ]
    },
    {
      "cell_type": "code",
      "metadata": {
        "id": "uCGPT8P-Xnrq",
        "colab_type": "code",
        "outputId": "ae31f855-b97a-4f26-b2bc-739609f12a3c",
        "colab": {
          "base_uri": "https://localhost:8080/",
          "height": 51
        }
      },
      "source": [
        "!scrapy genspider ranking jta.tournamentsoftware.com"
      ],
      "execution_count": 0,
      "outputs": [
        {
          "output_type": "stream",
          "text": [
            "Created spider 'ranking' using template 'basic' in module:\n",
            "  jta.spiders.ranking\n"
          ],
          "name": "stdout"
        }
      ]
    },
    {
      "cell_type": "code",
      "metadata": {
        "id": "EOVuB5x_gQ2B",
        "colab_type": "code",
        "outputId": "7130a449-700d-48e7-a3b3-ce42187104f3",
        "colab": {
          "base_uri": "https://localhost:8080/",
          "height": 34
        }
      },
      "source": [
        "!scrapy crawl ranking"
      ],
      "execution_count": 0,
      "outputs": [
        {
          "output_type": "stream",
          "text": [
            "/bin/bash: scrapy: command not found\n"
          ],
          "name": "stdout"
        }
      ]
    }
  ]
}